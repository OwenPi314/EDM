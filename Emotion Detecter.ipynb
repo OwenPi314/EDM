{
 "cells": [
  {
   "cell_type": "code",
   "execution_count": 129,
   "metadata": {},
   "outputs": [],
   "source": [
    "import os\n",
    "import IPython.display as ipd\n",
    "import matplotlib.pyplot as plt\n",
    "\n",
    "import numpy as np\n",
    "import librosa, librosa.display\n",
    "from scipy.fft import rfft\n",
    "from sklearn.neighbors import KNeighborsClassifier\n",
    "from sklearn.decomposition import PCA"
   ]
  },
  {
   "cell_type": "markdown",
   "metadata": {},
   "source": [
    "#### The raw training/validation/test data are the paths to the audio files, labels for now are just the emotions. The gender and intensity lists maybe further used as features"
   ]
  },
  {
   "cell_type": "code",
   "execution_count": 5,
   "metadata": {},
   "outputs": [],
   "source": [
    "raw_train_data = []\n",
    "raw_val_data = []\n",
    "raw_test_data = []\n",
    "\n",
    "train_label = []\n",
    "val_label = []\n",
    "test_label = []\n",
    "\n",
    "train_gender = []\n",
    "val_gender = []\n",
    "test_gender = []\n",
    "\n",
    "train_intensity = []\n",
    "val_intensity = []\n",
    "test_intensity = []\n",
    "\n",
    "for i in range(0, 16):\n",
    "    # Get all file names in the dir\n",
    "    actor = \"Actor_%02d\" % (i + 1)\n",
    "    inputs = os.listdir('./data/RAV/' + actor)\n",
    "    \n",
    "    for ele in inputs:\n",
    "        raw_train_data.append('./data/RAV/' + actor + '/' + ele) # Form paths to the files\n",
    "        \n",
    "        file_name = ele.split('-')\n",
    "        train_label.append(int(file_name[2]))                    # Get emotion label\n",
    "        train_intensity.append(int(file_name[3]))                # Get intensity\n",
    "        train_gender.append((i + 1) % 2)                         # Get gender (1 for male, 0 for female)\n",
    "    \n",
    "for i in range(16, 20):\n",
    "    # Get all file names in the dir\n",
    "    actor = \"Actor_%02d\" % (i + 1)\n",
    "    inputs = os.listdir('./data/RAV/' + actor)\n",
    "\n",
    "    for ele in inputs:\n",
    "        raw_val_data.append('./data/RAV/' + actor + '/' + ele) # Form paths to the files\n",
    "        \n",
    "        file_name = ele.split('-')\n",
    "        val_label.append(int(file_name[2]))                    # Get emotion label\n",
    "        val_intensity.append(int(file_name[3]))                # Get intensity\n",
    "        val_gender.append((i + 1) % 2)                         # Get gender (1 for male, 0 for female)\n",
    "        \n",
    "for i in range(20, 24):\n",
    "    # Get all file names in the dir\n",
    "    actor = \"Actor_%02d\" % (i + 1)\n",
    "    inputs = os.listdir('./data/RAV/' + actor)\n",
    "\n",
    "    for ele in inputs:\n",
    "        raw_test_data.append('./data/RAV/' + actor + '/' + ele) # Form paths to the files\n",
    "        \n",
    "        file_name = ele.split('-')\n",
    "        test_label.append(int(file_name[2]))                    # Get emotion label\n",
    "        test_intensity.append(int(file_name[3]))                # Get intensity\n",
    "        test_gender.append((i + 1) % 2)                         # Get gender (1 for male, 0 for female)"
   ]
  },
  {
   "cell_type": "markdown",
   "metadata": {},
   "source": [
    "#### Helper functions to split the data based on gender"
   ]
  },
  {
   "cell_type": "code",
   "execution_count": 152,
   "metadata": {},
   "outputs": [],
   "source": [
    "def split_gender(train, train_label, train_gender, val, val_label, val_gender, test, test_label, test_gender):\n",
    "    \n",
    "    train_male, train_male_label, train_female, train_female_label = split_gender_helper(train, train_label, train_gender)\n",
    "    val_male, val_male_label, val_female, val_female_label = split_gender_helper(val, val_label, val_gender)\n",
    "    test_male, test_male_label, test_female, test_female_label = split_gender_helper(test, test_label, test_gender)\n",
    "\n",
    "\n",
    "    return train_male, train_male_label, train_female, train_female_label, \\\n",
    "           val_male, val_male_label, val_female, val_female_label, \\\n",
    "           test_male, test_male_label, test_female, test_female_label\n",
    "\n",
    "def split_gender_helper(data, label, gender):\n",
    "    male = []\n",
    "    male_label = []\n",
    "    female = []\n",
    "    female_label = []\n",
    "    for i in range(0, len(data)):\n",
    "        if gender[i] == 1:\n",
    "            male.append(data[i])\n",
    "            male_label.append(label[i])\n",
    "        else:\n",
    "            female.append(data[i])\n",
    "            female_label.append(label[i])\n",
    "    return male, male_label, female, female_label"
   ]
  },
  {
   "cell_type": "markdown",
   "metadata": {},
   "source": [
    "#### Use librosa to load the audio files"
   ]
  },
  {
   "cell_type": "code",
   "execution_count": 47,
   "metadata": {},
   "outputs": [],
   "source": [
    "lbr_train_data = []\n",
    "for ele in raw_train_data:\n",
    "    temp, _ = librosa.load(ele)\n",
    "    lbr_train_data.append(np.pad(temp, (0, 116247 - len(temp))))"
   ]
  },
  {
   "cell_type": "code",
   "execution_count": 48,
   "metadata": {},
   "outputs": [],
   "source": [
    "lbr_val_data = []\n",
    "for ele in raw_val_data:\n",
    "    temp, _ = librosa.load(ele)\n",
    "    lbr_val_data.append(np.pad(temp, (0, 116247 - len(temp))))"
   ]
  },
  {
   "cell_type": "code",
   "execution_count": 49,
   "metadata": {},
   "outputs": [],
   "source": [
    "lbr_test_data = []\n",
    "for ele in raw_test_data:\n",
    "    temp, _ = librosa.load(ele)\n",
    "    lbr_test_data.append(np.pad(temp, (0, 116247 - len(temp))))"
   ]
  },
  {
   "cell_type": "markdown",
   "metadata": {},
   "source": [
    "#### Get the Fourier transform of the data as features\n",
    "The result of from the Fourier transform on the entire data set may not offer much information since all information about time in the sound is inherently lost. In human speech, having a high pitch at the beginning may indicate very different emotions from having a high pitch at the end. I do not expect great results from such features."
   ]
  },
  {
   "cell_type": "code",
   "execution_count": 84,
   "metadata": {},
   "outputs": [],
   "source": [
    "fft_train_data = []\n",
    "for ele in lbr_train_data:\n",
    "    temp = rfft(ele)\n",
    "    fft_train_data.append(temp.real)\n",
    "        \n",
    "fft_val_data = []\n",
    "for ele in lbr_val_data:\n",
    "    temp = rfft(ele)\n",
    "    fft_val_data.append(temp.real)\n",
    "        \n",
    "fft_test_data = []\n",
    "for ele in lbr_test_data:\n",
    "    temp = rfft(ele)\n",
    "    fft_test_data.append(temp.real)"
   ]
  },
  {
   "cell_type": "markdown",
   "metadata": {},
   "source": [
    "#### Using KNN classifier for FFT features\n",
    "As seen here, FFT+KNN yields validation errors slightly better than chance, I would expect similar results for the test error, therefore, I did not evaluate based on the test data."
   ]
  },
  {
   "cell_type": "code",
   "execution_count": 102,
   "metadata": {},
   "outputs": [
    {
     "name": "stdout",
     "output_type": "stream",
     "text": [
      "n = 1:0.11666666666666667\n",
      "n = 3:0.11666666666666667\n",
      "n = 5:0.125\n",
      "n = 10:0.1\n",
      "n = 15:0.125\n",
      "n = 20:0.10833333333333334\n",
      "n = 30:0.14166666666666666\n",
      "n = 40:0.13333333333333333\n",
      "n = 50:0.13333333333333333\n"
     ]
    }
   ],
   "source": [
    "for n in [1,3,5,10,15,20,30,40,50]:\n",
    "    knn_classifier = KNeighborsClassifier(n_neighbors = n)\n",
    "    knn_classifier.fit(fft_train_data, train_label)\n",
    "    print(\"n = \" + str(n) + \":\" + str(knn_classifier.score(fft_val_data, val_label)))"
   ]
  },
  {
   "cell_type": "markdown",
   "metadata": {},
   "source": [
    "Due to the high dimensionality of the FFT features, PCA is applied to reduce the effect of the Curse of Dimensionality and improve performance. From running the code, we can see that accuracy increased significantly (0.14 -> 0.24)"
   ]
  },
  {
   "cell_type": "code",
   "execution_count": 107,
   "metadata": {},
   "outputs": [
    {
     "name": "stdout",
     "output_type": "stream",
     "text": [
      "n_components = 1\n",
      "    n = 1:0.1625\n",
      "    n = 3:0.17083333333333334\n",
      "    n = 5:0.2\n",
      "    n = 10:0.21666666666666667\n",
      "    n = 15:0.175\n",
      "    n = 20:0.2\n",
      "    n = 30:0.19166666666666668\n",
      "    n = 40:0.19583333333333333\n",
      "    n = 50:0.19583333333333333\n",
      "n_components = 2\n",
      "    n = 1:0.15416666666666667\n",
      "    n = 3:0.15833333333333333\n",
      "    n = 5:0.19166666666666668\n",
      "    n = 10:0.21666666666666667\n",
      "    n = 15:0.2125\n",
      "    n = 20:0.2125\n",
      "    n = 30:0.19583333333333333\n",
      "    n = 40:0.2\n",
      "    n = 50:0.19166666666666668\n",
      "n_components = 4\n",
      "    n = 1:0.2\n",
      "    n = 3:0.16666666666666666\n",
      "    n = 5:0.2125\n",
      "    n = 10:0.23333333333333334\n",
      "    n = 15:0.225\n",
      "    n = 20:0.23333333333333334\n",
      "    n = 30:0.22916666666666666\n",
      "    n = 40:0.2375\n",
      "    n = 50:0.2375\n",
      "n_components = 8\n",
      "    n = 1:0.2375\n",
      "    n = 3:0.2\n",
      "    n = 5:0.20416666666666666\n",
      "    n = 10:0.19583333333333333\n",
      "    n = 15:0.21666666666666667\n",
      "    n = 20:0.17916666666666667\n",
      "    n = 30:0.21666666666666667\n",
      "    n = 40:0.2375\n",
      "    n = 50:0.23333333333333334\n",
      "n_components = 16\n",
      "    n = 1:0.1625\n",
      "    n = 3:0.14583333333333334\n",
      "    n = 5:0.16666666666666666\n",
      "    n = 10:0.18333333333333332\n",
      "    n = 15:0.18333333333333332\n",
      "    n = 20:0.20416666666666666\n",
      "    n = 30:0.225\n",
      "    n = 40:0.19583333333333333\n",
      "    n = 50:0.1875\n",
      "n_components = 32\n",
      "    n = 1:0.175\n",
      "    n = 3:0.16666666666666666\n",
      "    n = 5:0.1875\n",
      "    n = 10:0.1875\n",
      "    n = 15:0.20416666666666666\n",
      "    n = 20:0.19583333333333333\n",
      "    n = 30:0.20833333333333334\n",
      "    n = 40:0.19166666666666668\n",
      "    n = 50:0.175\n",
      "n_components = 64\n",
      "    n = 1:0.16666666666666666\n",
      "    n = 3:0.1625\n",
      "    n = 5:0.14166666666666666\n",
      "    n = 10:0.15416666666666667\n",
      "    n = 15:0.17083333333333334\n",
      "    n = 20:0.17083333333333334\n",
      "    n = 30:0.175\n",
      "    n = 40:0.15833333333333333\n",
      "    n = 50:0.14166666666666666\n",
      "n_components = 128\n",
      "    n = 1:0.16666666666666666\n",
      "    n = 3:0.125\n",
      "    n = 5:0.13333333333333333\n",
      "    n = 10:0.12083333333333333\n",
      "    n = 15:0.1125\n",
      "    n = 20:0.1375\n",
      "    n = 30:0.15\n",
      "    n = 40:0.14166666666666666\n",
      "    n = 50:0.14166666666666666\n",
      "n_components = 256\n",
      "    n = 1:0.1625\n",
      "    n = 3:0.125\n",
      "    n = 5:0.125\n",
      "    n = 10:0.09166666666666666\n",
      "    n = 15:0.07916666666666666\n",
      "    n = 20:0.09583333333333334\n",
      "    n = 30:0.13333333333333333\n",
      "    n = 40:0.13333333333333333\n",
      "    n = 50:0.13333333333333333\n",
      "n_components = 512\n",
      "    n = 1:0.13333333333333333\n",
      "    n = 3:0.1125\n",
      "    n = 5:0.125\n",
      "    n = 10:0.07083333333333333\n",
      "    n = 15:0.0875\n",
      "    n = 20:0.08333333333333333\n",
      "    n = 30:0.12916666666666668\n",
      "    n = 40:0.13333333333333333\n",
      "    n = 50:0.13333333333333333\n"
     ]
    }
   ],
   "source": [
    "for nc in [1,2,4,8,16,32,64,128,256,512]:\n",
    "    pca = PCA(n_components = nc)\n",
    "    fft_train_pca = pca.fit_transform(fft_train_data)\n",
    "    fft_val_pca = pca.transform(fft_val_data)\n",
    "    fft_test_pca = pca.transform(fft_test_data)\n",
    "    print(\"n_components = \" + str(nc))\n",
    "    \n",
    "    for n in [1,3,5,10,15,20,30,40,50]:\n",
    "        knn_classifier = KNeighborsClassifier(n_neighbors = n)\n",
    "        knn_classifier.fit(fft_train_pca, train_label)\n",
    "        print(\"    n = \" + str(n) + \":\" + str(knn_classifier.score(fft_val_pca, val_label)))"
   ]
  },
  {
   "cell_type": "code",
   "execution_count": 165,
   "metadata": {},
   "outputs": [
    {
     "data": {
      "text/plain": [
       "0.2"
      ]
     },
     "execution_count": 165,
     "metadata": {},
     "output_type": "execute_result"
    }
   ],
   "source": [
    "# Find the test error for a good setting of hyper-parameters.\n",
    "pca = PCA(n_components = 4)\n",
    "fft_train_pca = pca.fit_transform(fft_train_data)\n",
    "fft_val_pca = pca.transform(fft_val_data)\n",
    "fft_test_pca = pca.transform(fft_test_data)\n",
    "\n",
    "knn_classifier = KNeighborsClassifier(n_neighbors = 50)\n",
    "knn_classifier.fit(fft_train_pca, train_label)\n",
    "\n",
    "knn_classifier.score(fft_test_pca, test_label)"
   ]
  },
  {
   "cell_type": "code",
   "execution_count": 121,
   "metadata": {},
   "outputs": [
    {
     "data": {
      "text/plain": [
       "0.10590674833007543"
      ]
     },
     "execution_count": 121,
     "metadata": {},
     "output_type": "execute_result"
    }
   ],
   "source": [
    "pca = PCA(n_components = 4)\n",
    "fft_train_pca = pca.fit_transform(fft_train_data)\n",
    "sum(pca.explained_variance_ratio_)"
   ]
  },
  {
   "cell_type": "markdown",
   "metadata": {},
   "source": [
    "### Splitting the data based on gender (with PCA)"
   ]
  },
  {
   "cell_type": "code",
   "execution_count": 177,
   "metadata": {},
   "outputs": [
    {
     "name": "stdout",
     "output_type": "stream",
     "text": [
      "n_components = 1\n",
      "---------male-----------\n",
      "    n = 1:0.16666666666666666\n",
      "    n = 3:0.18333333333333332\n",
      "    n = 5:0.15\n",
      "    n = 10:0.16666666666666666\n",
      "    n = 15:0.225\n",
      "    n = 20:0.225\n",
      "    n = 30:0.23333333333333334\n",
      "    n = 40:0.225\n",
      "    n = 50:0.21666666666666667\n",
      "--------female----------\n",
      "    n = 1:0.19166666666666668\n",
      "    n = 3:0.15833333333333333\n",
      "    n = 5:0.15833333333333333\n",
      "    n = 10:0.16666666666666666\n",
      "    n = 15:0.18333333333333332\n",
      "    n = 20:0.19166666666666668\n",
      "    n = 30:0.18333333333333332\n",
      "    n = 40:0.15833333333333333\n",
      "    n = 50:0.225\n",
      "n_components = 2\n",
      "---------male-----------\n",
      "    n = 1:0.14166666666666666\n",
      "    n = 3:0.175\n",
      "    n = 5:0.20833333333333334\n",
      "    n = 10:0.24166666666666667\n",
      "    n = 15:0.225\n",
      "    n = 20:0.2\n",
      "    n = 30:0.225\n",
      "    n = 40:0.26666666666666666\n",
      "    n = 50:0.23333333333333334\n",
      "--------female----------\n",
      "    n = 1:0.175\n",
      "    n = 3:0.13333333333333333\n",
      "    n = 5:0.23333333333333334\n",
      "    n = 10:0.15833333333333333\n",
      "    n = 15:0.15\n",
      "    n = 20:0.18333333333333332\n",
      "    n = 30:0.15\n",
      "    n = 40:0.13333333333333333\n",
      "    n = 50:0.19166666666666668\n",
      "n_components = 4\n",
      "---------male-----------\n",
      "    n = 1:0.20833333333333334\n",
      "    n = 3:0.175\n",
      "    n = 5:0.3\n",
      "    n = 10:0.19166666666666668\n",
      "    n = 15:0.24166666666666667\n",
      "    n = 20:0.24166666666666667\n",
      "    n = 30:0.25833333333333336\n",
      "    n = 40:0.25\n",
      "    n = 50:0.24166666666666667\n",
      "--------female----------\n",
      "    n = 1:0.21666666666666667\n",
      "    n = 3:0.19166666666666668\n",
      "    n = 5:0.225\n",
      "    n = 10:0.21666666666666667\n",
      "    n = 15:0.21666666666666667\n",
      "    n = 20:0.20833333333333334\n",
      "    n = 30:0.2\n",
      "    n = 40:0.18333333333333332\n",
      "    n = 50:0.18333333333333332\n",
      "n_components = 8\n",
      "---------male-----------\n",
      "    n = 1:0.25833333333333336\n",
      "    n = 3:0.18333333333333332\n",
      "    n = 5:0.225\n",
      "    n = 10:0.24166666666666667\n",
      "    n = 15:0.26666666666666666\n",
      "    n = 20:0.25833333333333336\n",
      "    n = 30:0.21666666666666667\n",
      "    n = 40:0.21666666666666667\n",
      "    n = 50:0.24166666666666667\n",
      "--------female----------\n",
      "    n = 1:0.13333333333333333\n",
      "    n = 3:0.13333333333333333\n",
      "    n = 5:0.16666666666666666\n",
      "    n = 10:0.2\n",
      "    n = 15:0.19166666666666668\n",
      "    n = 20:0.14166666666666666\n",
      "    n = 30:0.16666666666666666\n",
      "    n = 40:0.2\n",
      "    n = 50:0.21666666666666667\n",
      "n_components = 16\n",
      "---------male-----------\n",
      "    n = 1:0.16666666666666666\n",
      "    n = 3:0.15\n",
      "    n = 5:0.19166666666666668\n",
      "    n = 10:0.20833333333333334\n",
      "    n = 15:0.16666666666666666\n",
      "    n = 20:0.2\n",
      "    n = 30:0.21666666666666667\n",
      "    n = 40:0.225\n",
      "    n = 50:0.19166666666666668\n",
      "--------female----------\n",
      "    n = 1:0.20833333333333334\n",
      "    n = 3:0.20833333333333334\n",
      "    n = 5:0.20833333333333334\n",
      "    n = 10:0.225\n",
      "    n = 15:0.2\n",
      "    n = 20:0.175\n",
      "    n = 30:0.18333333333333332\n",
      "    n = 40:0.18333333333333332\n",
      "    n = 50:0.19166666666666668\n",
      "n_components = 32\n",
      "---------male-----------\n",
      "    n = 1:0.18333333333333332\n",
      "    n = 3:0.175\n",
      "    n = 5:0.15833333333333333\n",
      "    n = 10:0.15833333333333333\n",
      "    n = 15:0.16666666666666666\n",
      "    n = 20:0.18333333333333332\n",
      "    n = 30:0.20833333333333334\n",
      "    n = 40:0.18333333333333332\n",
      "    n = 50:0.175\n",
      "--------female----------\n",
      "    n = 1:0.25\n",
      "    n = 3:0.23333333333333334\n",
      "    n = 5:0.2\n",
      "    n = 10:0.2\n",
      "    n = 15:0.23333333333333334\n",
      "    n = 20:0.225\n",
      "    n = 30:0.175\n",
      "    n = 40:0.16666666666666666\n",
      "    n = 50:0.15833333333333333\n",
      "n_components = 64\n",
      "---------male-----------\n",
      "    n = 1:0.175\n",
      "    n = 3:0.15\n",
      "    n = 5:0.13333333333333333\n",
      "    n = 10:0.14166666666666666\n",
      "    n = 15:0.15833333333333333\n",
      "    n = 20:0.19166666666666668\n",
      "    n = 30:0.13333333333333333\n",
      "    n = 40:0.13333333333333333\n",
      "    n = 50:0.14166666666666666\n",
      "--------female----------\n",
      "    n = 1:0.20833333333333334\n",
      "    n = 3:0.225\n",
      "    n = 5:0.18333333333333332\n",
      "    n = 10:0.19166666666666668\n",
      "    n = 15:0.16666666666666666\n",
      "    n = 20:0.15833333333333333\n",
      "    n = 30:0.175\n",
      "    n = 40:0.16666666666666666\n",
      "    n = 50:0.15833333333333333\n",
      "n_components = 128\n",
      "---------male-----------\n",
      "    n = 1:0.175\n",
      "    n = 3:0.15\n",
      "    n = 5:0.13333333333333333\n",
      "    n = 10:0.08333333333333333\n",
      "    n = 15:0.11666666666666667\n",
      "    n = 20:0.15\n",
      "    n = 30:0.125\n",
      "    n = 40:0.14166666666666666\n",
      "    n = 50:0.13333333333333333\n",
      "--------female----------\n",
      "    n = 1:0.19166666666666668\n",
      "    n = 3:0.18333333333333332\n",
      "    n = 5:0.18333333333333332\n",
      "    n = 10:0.15833333333333333\n",
      "    n = 15:0.15\n",
      "    n = 20:0.15\n",
      "    n = 30:0.14166666666666666\n",
      "    n = 40:0.14166666666666666\n",
      "    n = 50:0.13333333333333333\n",
      "n_components = 256\n",
      "---------male-----------\n",
      "    n = 1:0.15833333333333333\n",
      "    n = 3:0.175\n",
      "    n = 5:0.15\n",
      "    n = 10:0.10833333333333334\n",
      "    n = 15:0.09166666666666666\n",
      "    n = 20:0.09166666666666666\n",
      "    n = 30:0.11666666666666667\n",
      "    n = 40:0.13333333333333333\n",
      "    n = 50:0.13333333333333333\n",
      "--------female----------\n",
      "    n = 1:0.125\n",
      "    n = 3:0.15833333333333333\n",
      "    n = 5:0.15833333333333333\n",
      "    n = 10:0.14166666666666666\n",
      "    n = 15:0.15\n",
      "    n = 20:0.14166666666666666\n",
      "    n = 30:0.13333333333333333\n",
      "    n = 40:0.13333333333333333\n",
      "    n = 50:0.13333333333333333\n",
      "n_components = 512\n",
      "---------male-----------\n",
      "    n = 1:0.15\n",
      "    n = 3:0.14166666666666666\n",
      "    n = 5:0.13333333333333333\n",
      "    n = 10:0.075\n",
      "    n = 15:0.125\n",
      "    n = 20:0.09166666666666666\n",
      "    n = 30:0.13333333333333333\n",
      "    n = 40:0.13333333333333333\n",
      "    n = 50:0.13333333333333333\n",
      "--------female----------\n",
      "    n = 1:0.13333333333333333\n",
      "    n = 3:0.10833333333333334\n",
      "    n = 5:0.13333333333333333\n",
      "    n = 10:0.13333333333333333\n",
      "    n = 15:0.13333333333333333\n",
      "    n = 20:0.13333333333333333\n",
      "    n = 30:0.13333333333333333\n",
      "    n = 40:0.13333333333333333\n",
      "    n = 50:0.13333333333333333\n"
     ]
    }
   ],
   "source": [
    "for nc in [1,2,4,8,16,32,64,128,256,512]:\n",
    "    pca = PCA(n_components = nc)\n",
    "    fft_train_pca = pca.fit_transform(fft_train_data)\n",
    "    fft_val_pca = pca.transform(fft_val_data)\n",
    "    fft_test_pca = pca.transform(fft_test_data)\n",
    "    print(\"n_components = \" + str(nc))\n",
    "\n",
    "    fft_train_male, train_male_label, fft_train_female, train_female_label, \\\n",
    "    fft_val_male, val_male_label, fft_val_female, val_female_label, \\\n",
    "    fft_test_male, test_male_label, fft_test_female, test_female_label = \\\n",
    "        split_gender(fft_train_pca, train_label, train_gender, \\\n",
    "                     fft_val_pca, val_label, val_gender, \\\n",
    "                     fft_test_pca, test_label, test_gender)\n",
    "        \n",
    "        \n",
    "    print(\"---------male-----------\")\n",
    "    for n in [1,3,5,10,15,20,30,40,50]:\n",
    "        knn_male = KNeighborsClassifier(n_neighbors = n)\n",
    "        knn_male.fit(fft_train_male, train_male_label)\n",
    "        print(\"    n = \" + str(n) + \":\" + str(knn_male.score(fft_val_male, val_male_label)))\n",
    "        \n",
    "    print(\"--------female----------\")\n",
    "    for n in [1,3,5,10,15,20,30,40,50]:\n",
    "        knn_female = KNeighborsClassifier(n_neighbors = n)\n",
    "        knn_female.fit(fft_train_female, train_female_label)\n",
    "        print(\"    n = \" + str(n) + \":\" + str(knn_female.score(fft_val_female, val_female_label)))"
   ]
  },
  {
   "cell_type": "code",
   "execution_count": 198,
   "metadata": {},
   "outputs": [
    {
     "data": {
      "text/plain": [
       "0.25"
      ]
     },
     "execution_count": 198,
     "metadata": {},
     "output_type": "execute_result"
    }
   ],
   "source": [
    "pca = PCA(n_components = 4)\n",
    "fft_train_pca = pca.fit_transform(fft_train_data)\n",
    "fft_val_pca = pca.transform(fft_val_data)\n",
    "fft_test_pca = pca.transform(fft_test_data)\n",
    "\n",
    "fft_train_male, train_male_label, fft_train_female, train_female_label, \\\n",
    "fft_val_male, val_male_label, fft_val_female, val_female_label, \\\n",
    "fft_test_male, test_male_label, fft_test_female, test_female_label = \\\n",
    "    split_gender(fft_train_pca, train_label, train_gender, \\\n",
    "                 fft_val_pca, val_label, val_gender, \\\n",
    "                 fft_test_pca, test_label, test_gender)\n",
    "    \n",
    "knn_male = KNeighborsClassifier(n_neighbors = 30)\n",
    "knn_male.fit(fft_train_male, train_male_label)\n",
    "knn_male.score(fft_test_male, test_male_label)"
   ]
  },
  {
   "cell_type": "code",
   "execution_count": 197,
   "metadata": {},
   "outputs": [
    {
     "data": {
      "text/plain": [
       "0.23333333333333334"
      ]
     },
     "execution_count": 197,
     "metadata": {},
     "output_type": "execute_result"
    }
   ],
   "source": [
    "pca = PCA(n_components = 4)\n",
    "fft_train_pca = pca.fit_transform(fft_train_data)\n",
    "fft_val_pca = pca.transform(fft_val_data)\n",
    "fft_test_pca = pca.transform(fft_test_data)\n",
    "\n",
    "fft_train_male, train_male_label, fft_train_female, train_female_label, \\\n",
    "fft_val_male, val_male_label, fft_val_female, val_female_label, \\\n",
    "fft_test_male, test_male_label, fft_test_female, test_female_label = \\\n",
    "    split_gender(fft_train_pca, train_label, train_gender, \\\n",
    "                 fft_val_pca, val_label, val_gender, \\\n",
    "                 fft_test_pca, test_label, test_gender)\n",
    "    \n",
    "knn_female = KNeighborsClassifier(n_neighbors = 40)\n",
    "knn_female.fit(fft_train_female, train_female_label)\n",
    "knn_female.score(fft_test_female, test_female_label)"
   ]
  },
  {
   "cell_type": "markdown",
   "metadata": {},
   "source": [
    "## Good setting for KNN using FFT features with PCA: K = 30 / 40 / 50, n_components = 4 / 8. Validation accuracy = 0.2375, test accuracy = 0.225  \n",
    "## Also, from experimenting, we can see that spliting the input by gender offers some improvements in performance, since similar behavior is expected for spectrogram features, such testing is not perfored on the stft data set"
   ]
  },
  {
   "cell_type": "markdown",
   "metadata": {},
   "source": [
    "#### Get spectrograms of the audio input as features as to preserve the time dimension of the input"
   ]
  },
  {
   "cell_type": "code",
   "execution_count": 73,
   "metadata": {},
   "outputs": [],
   "source": [
    "stft_train_data = []\n",
    "for ele in lbr_train_data:\n",
    "    temp = librosa.stft(ele, n_fft = 512)\n",
    "    stft_train_data.append(temp.real.reshape(-1))\n",
    "        \n",
    "stft_val_data = []\n",
    "for ele in lbr_val_data:\n",
    "    temp = librosa.stft(ele, n_fft = 512)\n",
    "    stft_val_data.append(temp.real.reshape(-1))\n",
    "        \n",
    "stft_test_data = []\n",
    "for ele in lbr_test_data:\n",
    "    temp = librosa.stft(ele, n_fft = 512)\n",
    "    stft_test_data.append(temp.real.reshape(-1))"
   ]
  },
  {
   "cell_type": "markdown",
   "metadata": {},
   "source": [
    "#### Using KNN with spectrogram as features  \n",
    "Due to the high number of variables in a spectrogram, making a prediction with this model is extremely slow. The validation error seems to be slightly better than using FFT features, perhaps I would need to shift the spectrograms in the training data set to get better performance."
   ]
  },
  {
   "cell_type": "code",
   "execution_count": 74,
   "metadata": {},
   "outputs": [
    {
     "data": {
      "text/plain": [
       "KNeighborsClassifier(n_neighbors=30)"
      ]
     },
     "execution_count": 74,
     "metadata": {},
     "output_type": "execute_result"
    }
   ],
   "source": [
    "# Training the knn classifier\n",
    "knn_classifier = KNeighborsClassifier(n_neighbors = 30)\n",
    "knn_classifier.fit(stft_train_data, train_label)"
   ]
  },
  {
   "cell_type": "code",
   "execution_count": 81,
   "metadata": {},
   "outputs": [
    {
     "name": "stdout",
     "output_type": "stream",
     "text": [
      "1:0.1375\n",
      "3:0.11666666666666667\n",
      "5:0.12083333333333333\n",
      "10:0.10416666666666667\n",
      "15:0.125\n",
      "20:0.10833333333333334\n",
      "30:0.14166666666666666\n",
      "40:0.13333333333333333\n",
      "50:0.13333333333333333\n"
     ]
    }
   ],
   "source": [
    "for n in [1,3,5,10,15,20,30,40,50]:\n",
    "    knn_classifier = KNeighborsClassifier(n_neighbors = n)\n",
    "    knn_classifier.fit(stft_train_data, train_label)\n",
    "    print(\"n = \" + str(n) + \":\" + str(knn_classifier.score(stft_val_data, val_label)))"
   ]
  },
  {
   "cell_type": "code",
   "execution_count": 112,
   "metadata": {},
   "outputs": [
    {
     "name": "stdout",
     "output_type": "stream",
     "text": [
      "n_components = 1\n",
      "    n = 1:0.16666666666666666\n",
      "    n = 3:0.16666666666666666\n",
      "    n = 5:0.16666666666666666\n",
      "    n = 10:0.20833333333333334\n",
      "    n = 15:0.22083333333333333\n",
      "    n = 20:0.225\n",
      "    n = 30:0.19166666666666668\n",
      "    n = 40:0.20416666666666666\n",
      "    n = 50:0.225\n",
      "n_components = 2\n",
      "    n = 1:0.175\n",
      "    n = 3:0.17916666666666667\n",
      "    n = 5:0.19583333333333333\n",
      "    n = 10:0.2125\n",
      "    n = 15:0.23333333333333334\n",
      "    n = 20:0.2125\n",
      "    n = 30:0.22916666666666666\n",
      "    n = 40:0.21666666666666667\n",
      "    n = 50:0.20416666666666666\n",
      "n_components = 4\n",
      "    n = 1:0.2125\n",
      "    n = 3:0.19166666666666668\n",
      "    n = 5:0.19583333333333333\n",
      "    n = 10:0.19166666666666668\n",
      "    n = 15:0.22916666666666666\n",
      "    n = 20:0.225\n",
      "    n = 30:0.225\n",
      "    n = 40:0.2375\n",
      "    n = 50:0.2375\n",
      "n_components = 8\n",
      "    n = 1:0.17083333333333334\n",
      "    n = 3:0.1625\n",
      "    n = 5:0.22083333333333333\n",
      "    n = 10:0.20416666666666666\n",
      "    n = 15:0.225\n",
      "    n = 20:0.2125\n",
      "    n = 30:0.22916666666666666\n",
      "    n = 40:0.23333333333333334\n",
      "    n = 50:0.23333333333333334\n",
      "n_components = 16\n",
      "    n = 1:0.22083333333333333\n",
      "    n = 3:0.20833333333333334\n",
      "    n = 5:0.20833333333333334\n",
      "    n = 10:0.2125\n",
      "    n = 15:0.22083333333333333\n",
      "    n = 20:0.2125\n",
      "    n = 30:0.20416666666666666\n",
      "    n = 40:0.2\n",
      "    n = 50:0.1875\n",
      "n_components = 32\n",
      "    n = 1:0.17916666666666667\n",
      "    n = 3:0.1875\n",
      "    n = 5:0.1625\n",
      "    n = 10:0.18333333333333332\n",
      "    n = 15:0.2125\n",
      "    n = 20:0.2\n",
      "    n = 30:0.2\n",
      "    n = 40:0.21666666666666667\n",
      "    n = 50:0.19166666666666668\n",
      "n_components = 64\n",
      "    n = 1:0.14166666666666666\n",
      "    n = 3:0.15833333333333333\n",
      "    n = 5:0.19583333333333333\n",
      "    n = 10:0.16666666666666666\n",
      "    n = 15:0.20416666666666666\n",
      "    n = 20:0.1875\n",
      "    n = 30:0.17916666666666667\n",
      "    n = 40:0.1625\n",
      "    n = 50:0.1625\n",
      "n_components = 128\n",
      "    n = 1:0.1875\n",
      "    n = 3:0.20416666666666666\n",
      "    n = 5:0.15\n",
      "    n = 10:0.10416666666666667\n",
      "    n = 15:0.15416666666666667\n",
      "    n = 20:0.14583333333333334\n",
      "    n = 30:0.15416666666666667\n",
      "    n = 40:0.14166666666666666\n",
      "    n = 50:0.14166666666666666\n",
      "n_components = 256\n",
      "    n = 1:0.16666666666666666\n",
      "    n = 3:0.1375\n",
      "    n = 5:0.125\n",
      "    n = 10:0.09166666666666666\n",
      "    n = 15:0.11666666666666667\n",
      "    n = 20:0.1375\n",
      "    n = 30:0.13333333333333333\n",
      "    n = 40:0.13333333333333333\n",
      "    n = 50:0.13333333333333333\n",
      "n_components = 512\n",
      "    n = 1:0.13333333333333333\n",
      "    n = 3:0.125\n",
      "    n = 5:0.15\n",
      "    n = 10:0.0875\n",
      "    n = 15:0.1125\n",
      "    n = 20:0.125\n",
      "    n = 30:0.13333333333333333\n",
      "    n = 40:0.13333333333333333\n",
      "    n = 50:0.13333333333333333\n"
     ]
    }
   ],
   "source": [
    "for nc in [1,2,4,8,16,32,64,128,256,512]:\n",
    "    pca = PCA(n_components = nc)\n",
    "    stft_train_pca = pca.fit_transform(stft_train_data)\n",
    "    stft_val_pca = pca.transform(stft_val_data)\n",
    "    stft_test_pca = pca.transform(stft_test_data)\n",
    "    print(\"n_components = \" + str(nc))\n",
    "    \n",
    "    for n in [1,3,5,10,15,20,30,40,50]:\n",
    "        knn_classifier = KNeighborsClassifier(n_neighbors = n)\n",
    "        knn_classifier.fit(stft_train_pca, train_label)\n",
    "        print(\"    n = \" + str(n) + \":\" + str(knn_classifier.score(stft_val_pca, val_label)))"
   ]
  },
  {
   "cell_type": "code",
   "execution_count": 114,
   "metadata": {},
   "outputs": [
    {
     "data": {
      "text/plain": [
       "0.24583333333333332"
      ]
     },
     "execution_count": 114,
     "metadata": {},
     "output_type": "execute_result"
    }
   ],
   "source": [
    "# Find the test error for a good setting of hyper-parameters.\n",
    "pca = PCA(n_components = 4)\n",
    "stft_train_pca = pca.fit_transform(stft_train_data)\n",
    "stft_val_pca = pca.transform(stft_val_data)\n",
    "stft_test_pca = pca.transform(stft_test_data)\n",
    "\n",
    "knn_classifier = KNeighborsClassifier(n_neighbors = 40)\n",
    "knn_classifier.fit(stft_train_pca, train_label)\n",
    "\n",
    "knn_classifier.score(stft_test_pca, test_label)"
   ]
  },
  {
   "cell_type": "code",
   "execution_count": 120,
   "metadata": {},
   "outputs": [
    {
     "data": {
      "text/plain": [
       "0.10513143032743553"
      ]
     },
     "execution_count": 120,
     "metadata": {},
     "output_type": "execute_result"
    }
   ],
   "source": [
    "pca = PCA(n_components = 4)\n",
    "stft_train_pca = pca.fit_transform(stft_train_data)\n",
    "sum(pca.explained_variance_ratio_)"
   ]
  },
  {
   "cell_type": "code",
   "execution_count": null,
   "metadata": {},
   "outputs": [],
   "source": []
  },
  {
   "cell_type": "markdown",
   "metadata": {},
   "source": [
    "## Good setting of hyper-parameters for Spectrogram features with KNN and PCA for dimension reduction: K = 40 / 50, n_components = 4. Validation accuracy = 0.2375, test accuracy = 0.24583"
   ]
  },
  {
   "cell_type": "markdown",
   "metadata": {},
   "source": [
    "### From the low explained_variance_ratio_ of the trained PCA for both FFT and STFT (Spectrogram) features, I believe that FFT and Spectrogram features are not suited for the KNN algorithm for the following reasons:  \n",
    " - Low explained variance ratio implies that PCA doesn't do a very good job at reducing the dimensionality of the input\n",
    " - KNN has bad performance with data that has high dimensionality\n",
    " - Thus a balance between the dimensionality of the feature space and explained variance ratio after using PCA that results in good performance cannot be achieved"
   ]
  },
  {
   "cell_type": "code",
   "execution_count": null,
   "metadata": {},
   "outputs": [],
   "source": []
  }
 ],
 "metadata": {
  "kernelspec": {
   "display_name": "Python 3",
   "language": "python",
   "name": "python3"
  },
  "language_info": {
   "codemirror_mode": {
    "name": "ipython",
    "version": 3
   },
   "file_extension": ".py",
   "mimetype": "text/x-python",
   "name": "python",
   "nbconvert_exporter": "python",
   "pygments_lexer": "ipython3",
   "version": "3.8.5"
  }
 },
 "nbformat": 4,
 "nbformat_minor": 4
}
